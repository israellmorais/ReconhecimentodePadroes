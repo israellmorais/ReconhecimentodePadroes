{
  "nbformat": 4,
  "nbformat_minor": 0,
  "metadata": {
    "colab": {
      "name": "ExercicioClassificacao.ipynb",
      "provenance": [],
      "collapsed_sections": [],
      "mount_file_id": "1HRFkbpnQuomePtTpa762i4Q2ACgjj4Lq",
      "authorship_tag": "ABX9TyNOetR1lv2jBb4Pmzn2lT0P",
      "include_colab_link": true
    },
    "kernelspec": {
      "name": "python3",
      "display_name": "Python 3"
    }
  },
  "cells": [
    {
      "cell_type": "markdown",
      "metadata": {
        "id": "view-in-github",
        "colab_type": "text"
      },
      "source": [
        "<a href=\"https://colab.research.google.com/github/israellmorais/ReconhecimentodePadroes/blob/main/ExercicioClassificacao.ipynb\" target=\"_parent\"><img src=\"https://colab.research.google.com/assets/colab-badge.svg\" alt=\"Open In Colab\"/></a>"
      ]
    },
    {
      "cell_type": "code",
      "metadata": {
        "id": "0VtTgWYZSKGj",
        "outputId": "934eb172-812d-4686-da6d-46b2404eaaeb",
        "colab": {
          "base_uri": "https://localhost:8080/",
          "height": 131
        }
      },
      "source": [
        "from google.colab import drive\n",
        "import pandas as pd\n",
        "from math import sqrt\n",
        "from sklearn.metrics import mean_squared_error\n",
        "from sklearn.linear_model import LinearRegression\n",
        "import numpy as np\n",
        "import matplotlib.pylab as plt\n",
        "from sklearn.linear_model import LogisticRegression\n",
        "from sklearn.metrics import mean_squared_error\n",
        "from sklearn.metrics import accuracy_score\n",
        "\n",
        "\n",
        "url = '/content/drive/My Drive/ReconhecimentoPadroes/Classificacao/Wine2.csv'\n",
        "\n",
        "\n",
        "df = pd.read_csv(url,header=None)\n",
        "\n",
        "\n",
        "df.columns = [  'name'\n",
        "                 ,'alcohol'\n",
        "             \t,'malicAcid'\n",
        "             \t,'ash'\n",
        "            \t,'ashalcalinity'\n",
        "             \t,'magnesium'\n",
        "            \t,'totalPhenols'\n",
        "             \t,'flavanoids'\n",
        "             \t,'nonFlavanoidPhenols'\n",
        "             \t,'proanthocyanins'\n",
        "            \t,'colorIntensity'\n",
        "             \t,'hue'\n",
        "             \t,'od280_od315'\n",
        "             \t,'proline'\n",
        "                ]\n",
        "\n",
        "\n",
        "df.head(2)"
      ],
      "execution_count": 119,
      "outputs": [
        {
          "output_type": "execute_result",
          "data": {
            "text/html": [
              "<div>\n",
              "<style scoped>\n",
              "    .dataframe tbody tr th:only-of-type {\n",
              "        vertical-align: middle;\n",
              "    }\n",
              "\n",
              "    .dataframe tbody tr th {\n",
              "        vertical-align: top;\n",
              "    }\n",
              "\n",
              "    .dataframe thead th {\n",
              "        text-align: right;\n",
              "    }\n",
              "</style>\n",
              "<table border=\"1\" class=\"dataframe\">\n",
              "  <thead>\n",
              "    <tr style=\"text-align: right;\">\n",
              "      <th></th>\n",
              "      <th>name</th>\n",
              "      <th>alcohol</th>\n",
              "      <th>malicAcid</th>\n",
              "      <th>ash</th>\n",
              "      <th>ashalcalinity</th>\n",
              "      <th>magnesium</th>\n",
              "      <th>totalPhenols</th>\n",
              "      <th>flavanoids</th>\n",
              "      <th>nonFlavanoidPhenols</th>\n",
              "      <th>proanthocyanins</th>\n",
              "      <th>colorIntensity</th>\n",
              "      <th>hue</th>\n",
              "      <th>od280_od315</th>\n",
              "      <th>proline</th>\n",
              "    </tr>\n",
              "  </thead>\n",
              "  <tbody>\n",
              "    <tr>\n",
              "      <th>0</th>\n",
              "      <td>1</td>\n",
              "      <td>14.23</td>\n",
              "      <td>1.71</td>\n",
              "      <td>2.43</td>\n",
              "      <td>15.6</td>\n",
              "      <td>127</td>\n",
              "      <td>2.80</td>\n",
              "      <td>3.06</td>\n",
              "      <td>0.28</td>\n",
              "      <td>2.29</td>\n",
              "      <td>5.64</td>\n",
              "      <td>1.04</td>\n",
              "      <td>3.92</td>\n",
              "      <td>1065</td>\n",
              "    </tr>\n",
              "    <tr>\n",
              "      <th>1</th>\n",
              "      <td>1</td>\n",
              "      <td>13.20</td>\n",
              "      <td>1.78</td>\n",
              "      <td>2.14</td>\n",
              "      <td>11.2</td>\n",
              "      <td>100</td>\n",
              "      <td>2.65</td>\n",
              "      <td>2.76</td>\n",
              "      <td>0.26</td>\n",
              "      <td>1.28</td>\n",
              "      <td>4.38</td>\n",
              "      <td>1.05</td>\n",
              "      <td>3.40</td>\n",
              "      <td>1050</td>\n",
              "    </tr>\n",
              "  </tbody>\n",
              "</table>\n",
              "</div>"
            ],
            "text/plain": [
              "   name  alcohol  malicAcid   ash  ...  colorIntensity   hue  od280_od315  proline\n",
              "0     1    14.23       1.71  2.43  ...            5.64  1.04         3.92     1065\n",
              "1     1    13.20       1.78  2.14  ...            4.38  1.05         3.40     1050\n",
              "\n",
              "[2 rows x 14 columns]"
            ]
          },
          "metadata": {
            "tags": []
          },
          "execution_count": 119
        }
      ]
    },
    {
      "cell_type": "code",
      "metadata": {
        "id": "lCcbn30eav1U",
        "outputId": "11dbbe5a-8677-459b-b13c-006e696e4897",
        "colab": {
          "base_uri": "https://localhost:8080/"
        }
      },
      "source": [
        "X= df.drop(['name','ash'], axis=1)\n",
        "\n",
        "X.head()\n",
        "X = X[1:]\n",
        "X.shape\n"
      ],
      "execution_count": 120,
      "outputs": [
        {
          "output_type": "execute_result",
          "data": {
            "text/plain": [
              "(129, 12)"
            ]
          },
          "metadata": {
            "tags": []
          },
          "execution_count": 120
        }
      ]
    },
    {
      "cell_type": "code",
      "metadata": {
        "id": "6XfhEd3qa4yp",
        "outputId": "aae4af72-9b5f-4f49-80f0-ff34f29ba6dd",
        "colab": {
          "base_uri": "https://localhost:8080/"
        }
      },
      "source": [
        "y=df.iloc[:,:1]\n",
        "y = y[1:]\n",
        "y.head()\n",
        "y.shape"
      ],
      "execution_count": 121,
      "outputs": [
        {
          "output_type": "execute_result",
          "data": {
            "text/plain": [
              "(129, 1)"
            ]
          },
          "metadata": {
            "tags": []
          },
          "execution_count": 121
        }
      ]
    },
    {
      "cell_type": "code",
      "metadata": {
        "id": "QuET8A6lbSQv",
        "outputId": "0fe15f5c-24b6-4ea9-dc07-02b167041659",
        "colab": {
          "base_uri": "https://localhost:8080/",
          "height": 469
        }
      },
      "source": [
        "modelo = LogisticRegression()\n",
        "\n",
        "modelo.fit(X,y)\n",
        "\n",
        "COEF = modelo.coef_\n",
        "Erro = []\n",
        "delta = -50\n",
        "Intercept = np.linspace(modelo.intercept_ - delta,modelo.intercept_ + delta,200)\n",
        "aux = len(Intercept)\n",
        "\n",
        "for i in range(aux):\n",
        "    Inter = []\n",
        "    for l in range(12):\n",
        "      \n",
        "      Inter.append(Intercept[i])\n",
        "\n",
        "    Xpred = Inter + COEF * X\n",
        "    ypredito = modelo.predict(Xpred)\n",
        "    mse = mean_squared_error(y,ypredito)\n",
        "    Erro.append(mse)\n",
        "\n",
        "plt.ylabel(\"MSE\")\n",
        "plt.xlabel(\"INTERCEPT\")\n",
        "plt.plot(Intercept,Erro)\n",
        "plt.show()"
      ],
      "execution_count": 125,
      "outputs": [
        {
          "output_type": "stream",
          "text": [
            "/usr/local/lib/python3.6/dist-packages/sklearn/utils/validation.py:760: DataConversionWarning: A column-vector y was passed when a 1d array was expected. Please change the shape of y to (n_samples, ), for example using ravel().\n",
            "  y = column_or_1d(y, warn=True)\n",
            "/usr/local/lib/python3.6/dist-packages/sklearn/linear_model/_logistic.py:940: ConvergenceWarning: lbfgs failed to converge (status=1):\n",
            "STOP: TOTAL NO. of ITERATIONS REACHED LIMIT.\n",
            "\n",
            "Increase the number of iterations (max_iter) or scale the data as shown in:\n",
            "    https://scikit-learn.org/stable/modules/preprocessing.html\n",
            "Please also refer to the documentation for alternative solver options:\n",
            "    https://scikit-learn.org/stable/modules/linear_model.html#logistic-regression\n",
            "  extra_warning_msg=_LOGISTIC_SOLVER_CONVERGENCE_MSG)\n"
          ],
          "name": "stderr"
        },
        {
          "output_type": "display_data",
          "data": {
            "image/png": "[encoded data removed]",
            "text/plain": [
              "<Figure size 432x288 with 1 Axes>"
            ]
          },
          "metadata": {
            "tags": [],
            "needs_background": "light"
          }
        }
      ]
    },
    {
      "cell_type": "code",
      "metadata": {
        "id": "O5J5hIL_qtVz",
        "outputId": "c386b1dd-116d-4ea2-a11b-cb464880af39",
        "colab": {
          "base_uri": "https://localhost:8080/",
          "height": 469
        }
      },
      "source": [
        "modelo = LogisticRegression()\n",
        "\n",
        "modelo.fit(X,y)\n",
        "\n",
        "COEF = modelo.coef_\n",
        "Erro = []\n",
        "delta = 20\n",
        "Intercept = np.linspace(modelo.intercept_ - delta,modelo.intercept_ + delta,200)\n",
        "aux = len(Intercept)\n",
        "\n",
        "for i in range(aux):\n",
        "    Inter = []\n",
        "    for l in range(12):\n",
        "      \n",
        "      Inter.append(Intercept[i])\n",
        "\n",
        "    Xpred = Inter + COEF * X\n",
        "    ypredito = modelo.predict(Xpred)\n",
        "    mse = mean_squared_error(y,ypredito)\n",
        "    Erro.append(mse)\n",
        "\n",
        "plt.ylabel(\"MSE\")\n",
        "plt.xlabel(\"INTERCEPT\")\n",
        "plt.plot(Intercept,Erro)\n",
        "plt.show()"
      ],
      "execution_count": 126,
      "outputs": [
        {
          "output_type": "stream",
          "text": [
            "/usr/local/lib/python3.6/dist-packages/sklearn/utils/validation.py:760: DataConversionWarning: A column-vector y was passed when a 1d array was expected. Please change the shape of y to (n_samples, ), for example using ravel().\n",
            "  y = column_or_1d(y, warn=True)\n",
            "/usr/local/lib/python3.6/dist-packages/sklearn/linear_model/_logistic.py:940: ConvergenceWarning: lbfgs failed to converge (status=1):\n",
            "STOP: TOTAL NO. of ITERATIONS REACHED LIMIT.\n",
            "\n",
            "Increase the number of iterations (max_iter) or scale the data as shown in:\n",
            "    https://scikit-learn.org/stable/modules/preprocessing.html\n",
            "Please also refer to the documentation for alternative solver options:\n",
            "    https://scikit-learn.org/stable/modules/linear_model.html#logistic-regression\n",
            "  extra_warning_msg=_LOGISTIC_SOLVER_CONVERGENCE_MSG)\n"
          ],
          "name": "stderr"
        },
        {
          "output_type": "display_data",
          "data": {
            "image/png": "[encoded data removed]",
            "text/plain": [
              "<Figure size 432x288 with 1 Axes>"
            ]
          },
          "metadata": {
            "tags": [],
            "needs_background": "light"
          }
        }
      ]
    },
    {
      "cell_type": "code",
      "metadata": {
        "id": "l-9YSXpyq8fS",
        "outputId": "2c33f8db-988b-48f9-cd78-5d5fc6189499",
        "colab": {
          "base_uri": "https://localhost:8080/",
          "height": 469
        }
      },
      "source": [
        "modelo = LogisticRegression()\n",
        "\n",
        "modelo.fit(X,y)\n",
        "\n",
        "COEF = modelo.coef_\n",
        "Erro = []\n",
        "delta = 250\n",
        "Intercept = np.linspace(modelo.intercept_ - delta,modelo.intercept_ + delta,200)\n",
        "aux = len(Intercept)\n",
        "\n",
        "for i in range(aux):\n",
        "    Inter = []\n",
        "    for l in range(12):\n",
        "      \n",
        "      Inter.append(Intercept[i])\n",
        "\n",
        "    Xpred = Inter + COEF * X\n",
        "    ypredito = modelo.predict(Xpred)\n",
        "    mse = mean_squared_error(y,ypredito)\n",
        "    Erro.append(mse)\n",
        "\n",
        "plt.ylabel(\"MSE\")\n",
        "plt.xlabel(\"INTERCEPT\")\n",
        "plt.plot(Intercept,Erro)\n",
        "plt.show()"
      ],
      "execution_count": 127,
      "outputs": [
        {
          "output_type": "stream",
          "text": [
            "/usr/local/lib/python3.6/dist-packages/sklearn/utils/validation.py:760: DataConversionWarning: A column-vector y was passed when a 1d array was expected. Please change the shape of y to (n_samples, ), for example using ravel().\n",
            "  y = column_or_1d(y, warn=True)\n",
            "/usr/local/lib/python3.6/dist-packages/sklearn/linear_model/_logistic.py:940: ConvergenceWarning: lbfgs failed to converge (status=1):\n",
            "STOP: TOTAL NO. of ITERATIONS REACHED LIMIT.\n",
            "\n",
            "Increase the number of iterations (max_iter) or scale the data as shown in:\n",
            "    https://scikit-learn.org/stable/modules/preprocessing.html\n",
            "Please also refer to the documentation for alternative solver options:\n",
            "    https://scikit-learn.org/stable/modules/linear_model.html#logistic-regression\n",
            "  extra_warning_msg=_LOGISTIC_SOLVER_CONVERGENCE_MSG)\n"
          ],
          "name": "stderr"
        },
        {
          "output_type": "display_data",
          "data": {
            "image/png": "[encoded data removed]",
            "text/plain": [
              "<Figure size 432x288 with 1 Axes>"
            ]
          },
          "metadata": {
            "tags": [],
            "needs_background": "light"
          }
        }
      ]
    }
  ]
}