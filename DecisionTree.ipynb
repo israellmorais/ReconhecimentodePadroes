{
  "nbformat": 4,
  "nbformat_minor": 0,
  "metadata": {
    "colab": {
      "name": "DecisionTree.ipynb",
      "provenance": [],
      "authorship_tag": "ABX9TyOZH1JkV4qiAt58czkS9GaN",
      "include_colab_link": true
    },
    "kernelspec": {
      "name": "python3",
      "display_name": "Python 3"
    }
  },
  "cells": [
    {
      "cell_type": "markdown",
      "metadata": {
        "id": "view-in-github",
        "colab_type": "text"
      },
      "source": [
        "<a href=\"https://colab.research.google.com/github/israellmorais/ReconhecimentodePadroes/blob/main/DecisionTree.ipynb\" target=\"_parent\"><img src=\"https://colab.research.google.com/assets/colab-badge.svg\" alt=\"Open In Colab\"/></a>"
      ]
    },
    {
      "cell_type": "markdown",
      "metadata": {
        "id": "uJ_sb6CaExB0"
      },
      "source": [
        "#Arvores de Decisão"
      ]
    },
    {
      "cell_type": "code",
      "metadata": {
        "id": "dTdT_fLzmoLq"
      },
      "source": [
        "from sklearn.datasets import load_iris\r\n",
        "from sklearn.metrics import accuracy_score\r\n",
        "from sklearn.tree import DecisionTreeClassifier\r\n",
        "import pandas as pd\r\n",
        "from sklearn.model_selection import cross_validate\r\n",
        "import numpy as np\r\n",
        "import matplotlib.pyplot as plt\r\n",
        "from collections import Counter\r\n",
        "from sklearn.base import BaseEstimator, ClassifierMixin\r\n",
        "\r\n",
        "iris = load_iris()\r\n",
        "X, y = iris.data[:,2:], iris.target"
      ],
      "execution_count": 139,
      "outputs": []
    },
    {
      "cell_type": "code",
      "metadata": {
        "id": "ALbA1v__o842"
      },
      "source": [
        "def impureza(y): #Gini\r\n",
        "    labels = list(set(y))\r\n",
        "    labels.sort()\r\n",
        "    probabilidades = np.zeros((len(labels),))\r\n",
        "    for i,k in enumerate(labels):\r\n",
        "        probabilidades[i] = sum(y==k)/len(y)\r\n",
        "    result = 1 - sum(probabilidades**2)\r\n",
        "    return result"
      ],
      "execution_count": 140,
      "outputs": []
    },
    {
      "cell_type": "code",
      "metadata": {
        "id": "OYxJVuXdo-RP"
      },
      "source": [
        "def impurezaValor(x, y, valor):\r\n",
        "    maiores = x>valor\r\n",
        "    impurezaMaiores = impureza(y[maiores])\r\n",
        "    propMaiores = sum(maiores)/len(y)\r\n",
        "    impurezaMenores = impureza(y[~maiores])\r\n",
        "    propMenores = sum(~maiores)/len(y)\r\n",
        "    impurezaTotal = propMaiores*impurezaMaiores + propMenores*impurezaMenores\r\n",
        "    return impurezaTotal, impurezaMaiores, impurezaMenores\r\n"
      ],
      "execution_count": 141,
      "outputs": []
    },
    {
      "cell_type": "code",
      "metadata": {
        "id": "oejMMifapd8N"
      },
      "source": [
        "def maisFrequente(y):\r\n",
        "    return Counter(y.flat).most_common(1)[0][0]\r\n",
        "\r\n",
        "class Arvore(BaseEstimator, ClassifierMixin):\r\n",
        "    def __init__(self):\r\n",
        "        self.caracteristica = 0\r\n",
        "    def fit(self, X, y):\r\n",
        "        self.valor = np.mean(X[:,self.caracteristica])\r\n",
        "        maiores = X[:,self.caracteristica] > self.valor\r\n",
        "        if sum(maiores)>0 and sum(~maiores)>0:\r\n",
        "            self.maiores = Arvore()\r\n",
        "            self.maiores.fit(X[maiores,:],y[maiores])\r\n",
        "            self.menores = Arvore()\r\n",
        "            self.menores.fit(X[~maiores,:],y[~maiores])\r\n",
        "        else:\r\n",
        "            self.resposta = maisFrequente(y)\r\n",
        "    def predict(self, X):\r\n",
        "        y = np.empty((X.shape[0]))\r\n",
        "        if hasattr(self, 'resposta'):\r\n",
        "            y[:] = self.resposta\r\n",
        "        else:\r\n",
        "            maiores = X[:,self.caracteristica] > self.valor\r\n",
        "            y[maiores] = self.maiores.predict(X[maiores,:])\r\n",
        "            y[~maiores] = self.menores.predict(X[~maiores,:])\r\n",
        "        return y\r\n",
        "\r\n",
        "def ArvoreAula(X,y):\r\n",
        "\r\n",
        "    modelo = Arvore()\r\n",
        "    modelo.fit(X,y)\r\n",
        "    ypred = modelo.predict(X)\r\n",
        "    accuracy_score(y, ypred), (ypred == y)\r\n",
        "\r\n",
        "    return accuracy_score(y, ypred)"
      ],
      "execution_count": 142,
      "outputs": []
    },
    {
      "cell_type": "code",
      "metadata": {
        "id": "vSYMHFs5OIpy"
      },
      "source": [
        "import matplotlib.pyplot as plt\r\n",
        "\r\n",
        "def plotDecisao(modelo, X, y,titulo):\r\n",
        "    modelo.fit(X, y)\r\n",
        "    x0s = np.linspace(np.min(X[:,0])-0.2, np.max(X[:,0])+0.2, 100)\r\n",
        "    x1s = np.linspace(np.min(X[:,1])-0.2, np.max(X[:,1])+0.2, 100)\r\n",
        "    x0, x1 = np.meshgrid(x0s, x1s)\r\n",
        "    Xdec = np.c_[x0.ravel(), x1.ravel()]\r\n",
        "    ypred = modelo.predict(Xdec)\r\n",
        "    plt.contourf(x0, x1, ypred.reshape(x0.shape), alpha=0.25)\r\n",
        "    for k in set(y):\r\n",
        "        plt.plot(X[:,0][y==k], X[:,1][y==k], 'o', label=f\"{iris.target_names[k]} [{k}]\")\r\n",
        "    plt.title(titulo)\r\n",
        "    plt.xlabel(f\"X[0]: {iris.feature_names[0]}\")\r\n",
        "    plt.ylabel(f\"X[1]: {iris.feature_names[1]}\")\r\n",
        "    plt.show()\r\n"
      ],
      "execution_count": 143,
      "outputs": []
    },
    {
      "cell_type": "markdown",
      "metadata": {
        "id": "HgwFvXu3Nt4u"
      },
      "source": [
        "#Heuristica Nova"
      ]
    },
    {
      "cell_type": "code",
      "metadata": {
        "id": "099MBTl1olAE"
      },
      "source": [
        "def melhorValorMaxStd(x, y):\r\n",
        "    result = None\r\n",
        "    menorImpureza = float('inf')\r\n",
        "    \r\n",
        "    valor = np.max(x)-np.std(x)\r\n",
        "    \r\n",
        "    while True:\r\n",
        "        impTotal, impMaiores, impMenores = impurezaValor(x, y, valor)\r\n",
        "        if impTotal < menorImpureza:\r\n",
        "            menorImpureza = impTotal\r\n",
        "            result = valor\r\n",
        "            if impMaiores == 0 or impMenores == 0:\r\n",
        "                break\r\n",
        "            if impMaiores < impMenores:\r\n",
        "                xmin = valor\r\n",
        "            else:\r\n",
        "                xmax = valor\r\n",
        "        else:\r\n",
        "            break\r\n",
        "     \r\n",
        "    return result, menorImpureza\r\n"
      ],
      "execution_count": 144,
      "outputs": []
    },
    {
      "cell_type": "code",
      "metadata": {
        "id": "FcqP7EDh7paZ"
      },
      "source": [
        "\r\n",
        "def melhorCaracteristicaAlt(X, y):\r\n",
        "    impurezas = []\r\n",
        "    valores = []\r\n",
        "    for caracteristica in range(X.shape[1]):\r\n",
        "        valor, imp = melhorValorMaxStd(X[:,caracteristica], y)\r\n",
        "        impurezas.append(imp)\r\n",
        "        valores.append(valor)\r\n",
        "    impurezas = np.array(impurezas)\r\n",
        "    caracteristica = np.argmin(impurezas)\r\n",
        "    return caracteristica, valores[caracteristica], impurezas[caracteristica]\r\n",
        "    print(melhorCaracteristicaAlt(X,y))"
      ],
      "execution_count": 145,
      "outputs": []
    },
    {
      "cell_type": "code",
      "metadata": {
        "id": "KUwUWkkIpIJN"
      },
      "source": [
        "class ArvoreAlt(BaseEstimator, ClassifierMixin):\r\n",
        "    def fit(self, X, y):\r\n",
        "        self.caracteristica, self.valor, self.imp = melhorCaracteristicaAlt(X,y)\r\n",
        "        maiores = X[:,self.caracteristica] > self.valor\r\n",
        "        if sum(maiores)>0 and sum(~maiores)>0:\r\n",
        "            self.maiores = ArvoreAlt()\r\n",
        "            self.maiores.fit(X[maiores,:],y[maiores])\r\n",
        "            self.menores = ArvoreAlt()\r\n",
        "            self.menores.fit(X[~maiores,:],y[~maiores])\r\n",
        "        else:\r\n",
        "            self.resposta = maisFrequente(y)\r\n",
        "    def predict(self, X):\r\n",
        "        y = np.empty((X.shape[0]))\r\n",
        "        if hasattr(self, 'resposta'):\r\n",
        "            y[:] = self.resposta\r\n",
        "        else:\r\n",
        "            maiores = X[:,self.caracteristica] > self.valor\r\n",
        "            y[maiores] = self.maiores.predict(X[maiores,:])\r\n",
        "            y[~maiores] = self.menores.predict(X[~maiores,:])\r\n",
        "        return y\r\n",
        "\r\n",
        "def ArvoreAlterada(X,y):\r\n",
        "    modelo = ArvoreAlt()\r\n",
        "    scores = cross_validate(ArvoreAlt(), X, y)\r\n",
        "       \r\n",
        "    return np.mean(scores['test_score'])\r\n"
      ],
      "execution_count": 146,
      "outputs": []
    },
    {
      "cell_type": "markdown",
      "metadata": {
        "id": "dC1CMf_2OdDB"
      },
      "source": [
        "#Scikit Learn"
      ]
    },
    {
      "cell_type": "code",
      "metadata": {
        "id": "wf4OUnIXPNbL"
      },
      "source": [
        "from sklearn.tree import DecisionTreeClassifier\r\n",
        "from sklearn.model_selection import train_test_split, cross_val_score\r\n",
        "\r\n",
        "def sklearn(criterio, X, y):\r\n",
        "    sklearn_aux = DecisionTreeClassifier(criterion='gini')\r\n",
        "    scores = cross_validate(sklearn_aux, X, y)\r\n",
        "    return np.mean(scores['test_score'])\r\n",
        "\r\n"
      ],
      "execution_count": 147,
      "outputs": []
    },
    {
      "cell_type": "code",
      "metadata": {
        "colab": {
          "base_uri": "https://localhost:8080/",
          "height": 295
        },
        "id": "7jkqm_f3bLjX",
        "outputId": "2321f887-c8a8-45ef-9269-981ee5ce3ee7"
      },
      "source": [
        "from sklearn.linear_model import LogisticRegression\r\n",
        "plotDecisao(DecisionTreeClassifier(criterion='gini'), X, y,\"Arvore de Decisão - Sklearn Gini\")\r\n"
      ],
      "execution_count": 148,
      "outputs": [
        {
          "output_type": "display_data",
          "data": {
            "image/png": "[encoded data removed]",
            "text/plain": [
              "<Figure size 432x288 with 1 Axes>"
            ]
          },
          "metadata": {
            "tags": [],
            "needs_background": "light"
          }
        }
      ]
    },
    {
      "cell_type": "code",
      "metadata": {
        "id": "tKq2tzwojTgW"
      },
      "source": [
        "def imprimirHeuristicas(X,y):\r\n",
        "    arvore_aula = ArvoreAula(X,y)\r\n",
        "    arvore_heuristica = ArvoreAlterada(X,y)\r\n",
        "    arvore_sklearn_gini = sklearn('gini',X,y)\r\n",
        "    arvore_sklearn_entropy = sklearn('entropy',X,y)\r\n",
        "\r\n",
        "    print('\\nArvore de Decisão - Aula = %.2f' % (arvore_aula*100), '%')\r\n",
        "    print('Arvore de Decisão - Heuristica = %.2f' % (arvore_heuristica*100), '%')\r\n",
        "    print('Arvore de Decisão - Sklearn Gini = %.2f' % (arvore_sklearn_gini*100), '%')\r\n",
        "    print('Arvore de Decisão - Sklearn Entropy = %.2f' % (arvore_sklearn_entropy*100), '%')"
      ],
      "execution_count": 149,
      "outputs": []
    },
    {
      "cell_type": "code",
      "metadata": {
        "colab": {
          "base_uri": "https://localhost:8080/"
        },
        "id": "pPpxLiftUMG6",
        "outputId": "ed7a64b5-671b-48ce-a482-634329d82f18"
      },
      "source": [
        "print(\"Base Iris\")\r\n",
        "imprimirHeuristicas(X,y)"
      ],
      "execution_count": 150,
      "outputs": [
        {
          "output_type": "stream",
          "text": [
            "Base Iris\n",
            "\n",
            "Arvore de Decisão - Aula = 95.33 %\n",
            "Arvore de Decisão - Heuristica = 96.67 %\n",
            "Arvore de Decisão - Sklearn Gini = 94.67 %\n",
            "Arvore de Decisão - Sklearn Entropy = 95.33 %\n"
          ],
          "name": "stdout"
        }
      ]
    },
    {
      "cell_type": "code",
      "metadata": {
        "id": "4YhfKwtPmW3q"
      },
      "source": [
        "def imprimirGraficos(X,y):\r\n",
        "    plotDecisao(Arvore(), X, y,\"Arvore de Decisão - Aula\")\r\n",
        "    print('\\nArvore de Decisão - Aula = %.2f' % (arvore_aula*100), '%')\r\n",
        "    plotDecisao(ArvoreAlt(), X, y,\"Arvore de Decisão - Heuristica Nova\")\r\n",
        "    print('Arvore de Decisão - Heuristica = %.2f' % (arvore_heuristica*100), '%')\r\n",
        "    plotDecisao(DecisionTreeClassifier(criterion='gini'), X, y,\"Arvore de Decisão - Sklearn Gini\")\r\n",
        "    print('Arvore de Decisão - Sklearn Gini = %.2f' % (arvore_sklearn_gini*100), '%')\r\n",
        "    plotDecisao(DecisionTreeClassifier(criterion='entropy'), X, y,\"Arvore de Decisão - Sklearn Entropy\")\r\n",
        "    print('Arvore de Decisão - Sklearn Entropy = %.2f' % (arvore_sklearn_entropy*100), '%')\r\n"
      ],
      "execution_count": 151,
      "outputs": []
    },
    {
      "cell_type": "code",
      "metadata": {
        "colab": {
          "base_uri": "https://localhost:8080/",
          "height": 1000
        },
        "id": "_7hwNI0HUWlx",
        "outputId": "43a280b4-fc4f-4731-8755-ac31fd2943b8"
      },
      "source": [
        "print(\"Base Iris\")\r\n",
        "imprimirHeuristicas(X,y)\r\n",
        "imprimirGraficos(X,y)"
      ],
      "execution_count": 152,
      "outputs": [
        {
          "output_type": "stream",
          "text": [
            "Base Iris\n",
            "\n",
            "Arvore de Decisão - Aula = 95.33 %\n",
            "Arvore de Decisão - Heuristica = 96.67 %\n",
            "Arvore de Decisão - Sklearn Gini = 95.33 %\n",
            "Arvore de Decisão - Sklearn Entropy = 95.33 %\n"
          ],
          "name": "stdout"
        },
        {
          "output_type": "display_data",
          "data": {
            "image/png": "[encoded data removed]",
            "text/plain": [
              "<Figure size 432x288 with 1 Axes>"
            ]
          },
          "metadata": {
            "tags": [],
            "needs_background": "light"
          }
        },
        {
          "output_type": "stream",
          "text": [
            "\n",
            "Arvore de Decisão - Aula = 95.33 %\n"
          ],
          "name": "stdout"
        },
        {
          "output_type": "display_data",
          "data": {
            "image/png": "[encoded data removed]",
            "text/plain": [
              "<Figure size 432x288 with 1 Axes>"
            ]
          },
          "metadata": {
            "tags": [],
            "needs_background": "light"
          }
        },
        {
          "output_type": "stream",
          "text": [
            "Arvore de Decisão - Heuristica = 96.67 %\n"
          ],
          "name": "stdout"
        },
        {
          "output_type": "display_data",
          "data": {
            "image/png": "[encoded data removed]",
            "text/plain": [
              "<Figure size 432x288 with 1 Axes>"
            ]
          },
          "metadata": {
            "tags": [],
            "needs_background": "light"
          }
        },
        {
          "output_type": "stream",
          "text": [
            "Arvore de Decisão - Sklearn Gini = 95.33 %\n"
          ],
          "name": "stdout"
        },
        {
          "output_type": "display_data",
          "data": {
            "image/png": "[encoded data removed]",
            "text/plain": [
              "<Figure size 432x288 with 1 Axes>"
            ]
          },
          "metadata": {
            "tags": [],
            "needs_background": "light"
          }
        },
        {
          "output_type": "stream",
          "text": [
            "Arvore de Decisão - Sklearn Entropy = 95.33 %\n"
          ],
          "name": "stdout"
        }
      ]
    },
    {
      "cell_type": "markdown",
      "metadata": {
        "id": "jyvrENyJYyzS"
      },
      "source": [
        "#Base Breast Cancer"
      ]
    },
    {
      "cell_type": "code",
      "metadata": {
        "colab": {
          "base_uri": "https://localhost:8080/"
        },
        "id": "FMBoXaHzY3Iw",
        "outputId": "e3100a1a-43f3-48dc-c8c2-33b8b66ef937"
      },
      "source": [
        "from sklearn.datasets import load_breast_cancer\r\n",
        "breast_cancer = load_breast_cancer()\r\n",
        "\r\n",
        "Xc, yc = breast_cancer.data, breast_cancer.target\r\n",
        "\r\n",
        "print('**********BREAST CANCER**********')\r\n",
        "print('Acurácia')\r\n",
        "imprimirHeuristicas(Xc,yc)"
      ],
      "execution_count": 153,
      "outputs": [
        {
          "output_type": "stream",
          "text": [
            "**********BREAST CANCER**********\n",
            "Acurácia\n",
            "\n",
            "Arvore de Decisão - Aula = 95.78 %\n",
            "Arvore de Decisão - Heuristica = 91.92 %\n",
            "Arvore de Decisão - Sklearn Gini = 92.44 %\n",
            "Arvore de Decisão - Sklearn Entropy = 92.26 %\n"
          ],
          "name": "stdout"
        }
      ]
    },
    {
      "cell_type": "markdown",
      "metadata": {
        "id": "G7i01RPtbIC1"
      },
      "source": [
        "#Base Wine"
      ]
    },
    {
      "cell_type": "code",
      "metadata": {
        "colab": {
          "base_uri": "https://localhost:8080/"
        },
        "id": "kaUZhOSs411b",
        "outputId": "faabcab6-4df6-48a7-cc59-908137086d68"
      },
      "source": [
        "from sklearn.datasets import load_wine\r\n",
        "\r\n",
        "wine = load_wine()\r\n",
        "\r\n",
        "X, y = wine.data, wine.target\r\n",
        "\r\n",
        "print('**********WINE**********')\r\n",
        "print('Acurácia:')\r\n",
        "imprimirHeuristicas(X,y)"
      ],
      "execution_count": 154,
      "outputs": [
        {
          "output_type": "stream",
          "text": [
            "**********WINE**********\n",
            "Acurácia:\n",
            "\n",
            "Arvore de Decisão - Aula = 89.33 %\n",
            "Arvore de Decisão - Heuristica = 85.97 %\n",
            "Arvore de Decisão - Sklearn Gini = 87.10 %\n",
            "Arvore de Decisão - Sklearn Entropy = 88.21 %\n"
          ],
          "name": "stdout"
        }
      ]
    },
    {
      "cell_type": "markdown",
      "metadata": {
        "id": "dg3t35Cl99Ne"
      },
      "source": [
        "#Base de Dados de Imunoterapia"
      ]
    },
    {
      "cell_type": "code",
      "metadata": {
        "colab": {
          "base_uri": "https://localhost:8080/"
        },
        "id": "8Fyqozv9-BmI",
        "outputId": "a33fadbf-07be-4df8-e54c-40083100a8f0"
      },
      "source": [
        "url =  'https://archive.ics.uci.edu/ml/machine-learning-databases/00428/Immunotherapy.xlsx'\r\n",
        "base = pd.read_excel(url) \r\n",
        "X, y = base.iloc[:,:-1].values, base.iloc[:,-1].values\r\n",
        "\r\n",
        "print('**********Imunoterapia**********')\r\n",
        "print('Acurácia:')\r\n",
        "imprimirHeuristicas(X,y)"
      ],
      "execution_count": 155,
      "outputs": [
        {
          "output_type": "stream",
          "text": [
            "**********Imunoterapia**********\n",
            "Acurácia:\n",
            "\n",
            "Arvore de Decisão - Aula = 78.89 %\n",
            "Arvore de Decisão - Heuristica = 76.67 %\n",
            "Arvore de Decisão - Sklearn Gini = 85.56 %\n",
            "Arvore de Decisão - Sklearn Entropy = 83.33 %\n"
          ],
          "name": "stdout"
        }
      ]
    },
    {
      "cell_type": "markdown",
      "metadata": {
        "id": "g7JAlYzx-Xhr"
      },
      "source": [
        "#Conclusão"
      ]
    },
    {
      "cell_type": "markdown",
      "metadata": {
        "id": "PwqcDBk--aQb"
      },
      "source": [
        "As arvores de decisão se mostram uma abordagem muito utilizada para a resolução de problemas de classificação. As decições se dão com base no caminhamento do nó raiz até o nó folha. Nos vídeos da aula, a melhor característica era obtida pela média entre o máximo e mínimo valor. Já na heuristica desenvolvida, a melhor característica vou definida de acordo com o máximo valor menor o desvio padrão das amostras. As árvores de decisão do Sklearn possuem uma variante que são o índice gini que seleciona aleatoriamente dois itens de uma população e a entropia é usada para estimar a aleatoriedade da variável a prever. Olhando os resultados e as bases utilizadas, a acurácia foi bem próxima entre todas as heurísticas, sendo que obteram valores superiores a 90% nas bases iris e breast câncer."
      ]
    }
  ]
}