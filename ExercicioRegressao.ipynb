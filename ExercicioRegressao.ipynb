{
  "nbformat": 4,
  "nbformat_minor": 0,
  "metadata": {
    "colab": {
      "name": "ExercicioRegressao.ipynb",
      "provenance": [],
      "collapsed_sections": [],
      "authorship_tag": "ABX9TyPwFJ4FPHTcyaXjbqQj2hnj",
      "include_colab_link": true
    },
    "kernelspec": {
      "name": "python3",
      "display_name": "Python 3"
    }
  },
  "cells": [
    {
      "cell_type": "markdown",
      "metadata": {
        "id": "view-in-github",
        "colab_type": "text"
      },
      "source": [
        "<a href=\"https://colab.research.google.com/github/israellmorais/ReconhecimentodePadroes/blob/main/ExercicioRegressao.ipynb\" target=\"_parent\"><img src=\"https://colab.research.google.com/assets/colab-badge.svg\" alt=\"Open In Colab\"/></a>"
      ]
    },
    {
      "cell_type": "code",
      "metadata": {
        "id": "TOAlzvIGkcKe",
        "outputId": "b43cfa1c-f54b-431c-980f-48f19479e825",
        "colab": {
          "base_uri": "https://localhost:8080/"
        }
      },
      "source": [
        "from google.colab import drive\n",
        "import pandas as pd\n",
        "from math import sqrt\n",
        "from sklearn.metrics import mean_squared_error\n",
        "from sklearn.linear_model import LinearRegression\n",
        "import numpy as np\n",
        "import matplotlib.pylab as plt\n",
        "\n",
        "drive.mount('/content/drive')\n",
        "\n",
        "url = '/content/drive/My Drive/ReconhecimentoPadroes/Regressao/winequality-white.csv'\n",
        "\n",
        "\n",
        "\n",
        "df = pd.read_csv(url)\n",
        "#df.info()\n",
        "\n",
        "X = df.iloc[:,0:11] \n",
        "y = df.iloc[:,11:12]\n",
        "\n",
        "X = X.to_numpy()\n",
        "y = y.to_numpy()"
      ],
      "execution_count": 3,
      "outputs": [
        {
          "output_type": "stream",
          "text": [
            "Drive already mounted at /content/drive; to attempt to forcibly remount, call drive.mount(\"/content/drive\", force_remount=True).\n"
          ],
          "name": "stdout"
        }
      ]
    },
    {
      "cell_type": "code",
      "metadata": {
        "id": "_bpv4KyplbWS",
        "outputId": "cb01ba1f-de4f-4dc4-ce3e-8e3fb866c9c0",
        "colab": {
          "base_uri": "https://localhost:8080/",
          "height": 279
        }
      },
      "source": [
        "#https://realpython.com/linear-regression-in-python/\n",
        "\n",
        "modelo = LinearRegression()\n",
        "\n",
        "modelo.fit(X,y)\n",
        "\n",
        "Erro = []\n",
        "delta = 100\n",
        "Intercept = np.linspace(modelo.intercept_ - delta,modelo.intercept_ + delta,100)\n",
        "aux = len(Intercept)\n",
        "\n",
        "for i in range(aux):\n",
        "    #ypred = modelo.intercept_ + modelo.coef_ * X\n",
        "    Xpred = Intercept[i] + Intercept[i] * X\n",
        "    ypredito = modelo.predict(Xpred)\n",
        "    mse = mean_squared_error(y,ypredito)\n",
        "    Erro.append(mse)\n",
        "\n",
        "plt.ylabel(\"MSE\")\n",
        "plt.xlabel(\"INTERCEPT\")\n",
        "plt.plot(Intercept,Erro)\n",
        "plt.show()\n"
      ],
      "execution_count": 36,
      "outputs": [
        {
          "output_type": "display_data",
          "data": {
            "image/png": "[encoded data removed]",
            "text/plain": [
              "<Figure size 432x288 with 1 Axes>"
            ]
          },
          "metadata": {
            "tags": [],
            "needs_background": "light"
          }
        }
      ]
    }
  ]
}