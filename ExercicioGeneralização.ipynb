{
  "nbformat": 4,
  "nbformat_minor": 0,
  "metadata": {
    "colab": {
      "name": "ExercicioGeneralização.ipynb",
      "provenance": [],
      "collapsed_sections": [],
      "toc_visible": true,
      "mount_file_id": "1QXlXcu_rPH3xaTL9AKqv1P25klRb5p2W",
      "authorship_tag": "ABX9TyOOPVD/h+SK8AKvSOpHbi0d",
      "include_colab_link": true
    },
    "kernelspec": {
      "name": "python3",
      "display_name": "Python 3"
    }
  },
  "cells": [
    {
      "cell_type": "markdown",
      "metadata": {
        "id": "view-in-github",
        "colab_type": "text"
      },
      "source": [
        "<a href=\"https://colab.research.google.com/github/israellmorais/ReconhecimentodePadroes/blob/main/ExercicioGeneraliza%C3%A7%C3%A3o.ipynb\" target=\"_parent\"><img src=\"https://colab.research.google.com/assets/colab-badge.svg\" alt=\"Open In Colab\"/></a>"
      ]
    },
    {
      "cell_type": "markdown",
      "metadata": {
        "id": "zv2Z59eHZlaa"
      },
      "source": [
        "#Exercício de Generalização - Reconhecimento de Padrões\"\n",
        "\n",
        "###Nome: Israel de Morais Madalena###\n",
        "###Professor: Francisco Boldt###\n",
        "###Mestrado em Computação Aplicada###\n",
        "\n",
        "Escolha uma base de classificação e compare os classificadores Logistic Regression e KNN do scikit-learn.\n",
        "\n",
        "Use pelo menos duas formas de avaliação e as repita pelo menos 10 vezes.\n",
        "\n",
        "Calcule a média das repetições de cada avaliação."
      ]
    },
    {
      "cell_type": "code",
      "metadata": {
        "id": "TOAlzvIGkcKe",
        "colab": {
          "base_uri": "https://localhost:8080/"
        },
        "outputId": "4b6f7504-7c6f-4982-ea34-83c8890c1c8b"
      },
      "source": [
        "from google.colab import drive\n",
        "import pandas as pd\n",
        "from math import sqrt\n",
        "from sklearn.metrics import mean_squared_error\n",
        "from sklearn.linear_model import LinearRegression\n",
        "import numpy as np\n",
        "import matplotlib.pylab as plt\n",
        "from sklearn.model_selection import train_test_split\n",
        "from sklearn.linear_model import LogisticRegression\n",
        "from sklearn.metrics import accuracy_score\n",
        "from sklearn.neighbors import KNeighborsClassifier\n",
        "from sklearn.metrics import classification_report\n",
        "import matplotlib.pyplot as plt  # doctest: +SKIP\n",
        "from sklearn.metrics import plot_confusion_matrix\n",
        "import time\n",
        "from sklearn.metrics import recall_score\n",
        "from sklearn.metrics import precision_score\n",
        "from sklearn.metrics import accuracy_score\n",
        "from sklearn.metrics import confusion_matrix\n",
        "\n",
        "\n",
        "\n",
        "drive.mount('/content/drive')\n",
        "\n",
        "url = '/content/drive/MyDrive/ReconhecimentoPadroes/Generalizacao/credito.csv'\n",
        "\n",
        "#url = '/content/credito.csv'\n",
        "\n",
        "\n",
        "def leitura_arquivo():\n",
        "  df = pd.read_csv(url)\n",
        "  #df.info()\n",
        "\n",
        "\n",
        "  X = df.iloc[:,0:20] \n",
        "  y = df.iloc[:,20:21]\n",
        "\n",
        "  X = X.to_numpy()\n",
        "  y = y.to_numpy()\n",
        "\n",
        "\n",
        "  #X_treino, X_teste, y_treino, y_teste = train_test_split(X, y, test_size=0.3, random_state=42)\n",
        "  X_treino, X_teste, y_treino, y_teste = train_test_split(X, y, test_size=0.3)\n",
        "\n",
        "  return X_treino, X_teste, y_treino, y_teste\n",
        "  #X_treino.shape, X_teste.shape, y_treino.shape, y_teste.shape\n",
        "\n",
        "def classificacao(y_teste, y_predict, target_names):\n",
        "  return classification_report(y_teste, y_predict, target_names=target_names)\n"
      ],
      "execution_count": 25,
      "outputs": [
        {
          "output_type": "stream",
          "text": [
            "Drive already mounted at /content/drive; to attempt to forcibly remount, call drive.mount(\"/content/drive\", force_remount=True).\n"
          ],
          "name": "stdout"
        }
      ]
    },
    {
      "cell_type": "code",
      "metadata": {
        "id": "U7170wAyS-4N"
      },
      "source": [
        "def knn():\n",
        "    neigh = KNeighborsClassifier(n_neighbors=5)\n",
        "\n",
        "    start = time.time()\n",
        "    neigh.fit(X_treino, y_treino)\n",
        "    end = time.time()\n",
        "    KNN_ttreino = end - start\n",
        "\n",
        "    start = time.time()\n",
        "    KNN_y_pred = neigh.predict(X_teste)\n",
        "    end = time.time()\n",
        "    KNN_tpredicao = end - start\n",
        "\n",
        "    target_names = ['0', '1']\n",
        "\n",
        "    aux_classificacao = \"*Algoritmo KNN*\\n\" + classificacao(y_teste, KNN_y_pred, target_names)\n",
        "\n",
        "    KNN_acuracia = accuracy_score(y_teste, KNN_y_pred)\n",
        "    KNN_precisao = precision_score(y_teste, KNN_y_pred)\n",
        "    KNN_recall = recall_score(y_teste, KNN_y_pred)\n",
        "\n",
        "    #print(aux_classificacao)\n",
        "    #print(\"\\n\\nTempo de treino: \", KNN_ttreino, \"\\n\\nTempo de predição: \", KNN_tpredicao)\n",
        "\n",
        "    #plot_confusion_matrix(neigh, X_teste, y_teste)\n",
        "    mc = confusion_matrix(y_teste, KNN_y_pred)\n",
        "\n",
        "    #print('KNN_acuracia = ', KNN_acuracia)\n",
        "\n",
        "    #resumo.append([KNN_acuracia, KNN_precisao, KNN_recall, KNN_ttreino, KNN_tpredicao, mc])\n",
        "    #resumo.append([KNN_acuracia, KNN_precisao, KNN_recall, KNN_ttreino, KNN_tpredicao])\n",
        "\n",
        "    return KNN_acuracia, KNN_precisao, KNN_recall, KNN_ttreino, KNN_tpredicao"
      ],
      "execution_count": 26,
      "outputs": []
    },
    {
      "cell_type": "code",
      "metadata": {
        "id": "BioitCNwm5y5"
      },
      "source": [
        "def logistic():\n",
        "\n",
        "    modelo = LogisticRegression()\n",
        "\n",
        "    start = time.time()\n",
        "    modelo.fit(X_treino, y_treino)\n",
        "    end = time.time()\n",
        "    lr_ttreino = end - start\n",
        "\n",
        "    start = time.time()\n",
        "    lr_y_pred = modelo.predict(X_teste)\n",
        "    end = time.time()\n",
        "    lr_tpredicao = end - start\n",
        "\n",
        "    target_names = ['0', '1']\n",
        "\n",
        "    aux_classificacao = \"*Algoritmo Logistic Regression*\\n\" + classificacao(y_teste, lr_y_pred, target_names)\n",
        "\n",
        "    lr_acuracia = accuracy_score(y_teste, lr_y_pred)\n",
        "    lr_precisao = precision_score(y_teste, lr_y_pred)\n",
        "    lr_recall = recall_score(y_teste, lr_y_pred)\n",
        "\n",
        "    #print(aux_classificacao)\n",
        "    #print(\"\\n\\nTempo de treino: \", lr_ttreino, \"\\n\\nTempo de predição: \", lr_tpredicao)\n",
        "\n",
        "    #plot_confusion_matrix(modelo, X_teste, y_teste)\n",
        "    mc = confusion_matrix(y_teste, lr_y_pred)\n",
        "\n",
        "    #print('LR_acuracia = ', lr_acuracia)\n",
        "\n",
        "    #resumo.append([lr_acuracia, lr_precisao, lr_recall, lr_ttreino, lr_tpredicao, mc])\n",
        "    #resumo.append([lr_acuracia, lr_precisao, lr_recall, lr_ttreino, lr_tpredicao])\n",
        "\n",
        "    return lr_acuracia, lr_precisao, lr_recall, lr_ttreino, lr_tpredicao\n"
      ],
      "execution_count": 27,
      "outputs": []
    },
    {
      "cell_type": "code",
      "metadata": {
        "id": "Xfyc3MP7yNUC"
      },
      "source": [
        "resumo_lr = []\n",
        "resumo_knn = []\n",
        "\n",
        "tlr_acuracia = 0.0\n",
        "tlr_precisao = 0.0\n",
        "tlr_recall = 0.0\n",
        "tlr_ttreino = 0.0\n",
        "tlr_tpredicao = 0.0\n",
        "tKNN_acuracia = 0.0 \n",
        "tKNN_precisao = 0.0\n",
        "tKNN_recall = 0.0\n",
        "tKNN_ttreino = 0.0\n",
        "tKNN_tpredicao = 0.0\n",
        "\n",
        "for i in range(10):\n",
        "  X_treino, X_teste, y_treino, y_teste = leitura_arquivo()\n",
        "  lr_acuracia, lr_precisao, lr_recall, lr_ttreino, lr_tpredicao = logistic()\n",
        "  KNN_acuracia, KNN_precisao, KNN_recall, KNN_ttreino, KNN_tpredicao = knn()\n",
        "  tlr_acuracia += lr_acuracia\n",
        "  tlr_precisao += lr_precisao\n",
        "  tlr_recall +=  lr_recall\n",
        "  tlr_ttreino += lr_ttreino\n",
        "  tlr_tpredicao += lr_tpredicao\n",
        "  tKNN_acuracia += KNN_acuracia\n",
        "  tKNN_precisao += KNN_precisao\n",
        "  tKNN_recall +=  KNN_recall\n",
        "  tKNN_ttreino += KNN_ttreino\n",
        "  tKNN_tpredicao += KNN_tpredicao\n",
        "\n"
      ],
      "execution_count": null,
      "outputs": []
    },
    {
      "cell_type": "code",
      "metadata": {
        "colab": {
          "base_uri": "https://localhost:8080/",
          "height": 111
        },
        "id": "GGs6baQOMOPj",
        "outputId": "3729aea0-c5e6-40ec-9d56-6884541afbee"
      },
      "source": [
        "resumo = []\n",
        "resumo.append([tlr_acuracia/10, tlr_precisao/10, tlr_recall/10, tlr_ttreino/10, tlr_tpredicao/10])\n",
        "resumo.append([tKNN_acuracia/10, tKNN_precisao/10, tKNN_recall/10, tKNN_ttreino/10, tKNN_tpredicao/10])\n",
        "\n",
        "dfresumo = pd.DataFrame(data=resumo, index=[\"KNN\",\"Logistic Regression\"],\n",
        "                          columns=[\"Acuracia\",\"Precisão\",\"Recall\",\"Tempo de Treino\", \"Tempo de Predição\"])\n",
        "\n",
        "\n",
        "dfresumo"
      ],
      "execution_count": 29,
      "outputs": [
        {
          "output_type": "execute_result",
          "data": {
            "text/html": [
              "<div>\n",
              "<style scoped>\n",
              "    .dataframe tbody tr th:only-of-type {\n",
              "        vertical-align: middle;\n",
              "    }\n",
              "\n",
              "    .dataframe tbody tr th {\n",
              "        vertical-align: top;\n",
              "    }\n",
              "\n",
              "    .dataframe thead th {\n",
              "        text-align: right;\n",
              "    }\n",
              "</style>\n",
              "<table border=\"1\" class=\"dataframe\">\n",
              "  <thead>\n",
              "    <tr style=\"text-align: right;\">\n",
              "      <th></th>\n",
              "      <th>Acuracia</th>\n",
              "      <th>Precisão</th>\n",
              "      <th>Recall</th>\n",
              "      <th>Tempo de Treino</th>\n",
              "      <th>Tempo de Predição</th>\n",
              "    </tr>\n",
              "  </thead>\n",
              "  <tbody>\n",
              "    <tr>\n",
              "      <th>KNN</th>\n",
              "      <td>0.745667</td>\n",
              "      <td>0.772852</td>\n",
              "      <td>0.895398</td>\n",
              "      <td>0.061061</td>\n",
              "      <td>0.000450</td>\n",
              "    </tr>\n",
              "    <tr>\n",
              "      <th>Logistic Regression</th>\n",
              "      <td>0.654667</td>\n",
              "      <td>0.706526</td>\n",
              "      <td>0.855534</td>\n",
              "      <td>0.002552</td>\n",
              "      <td>0.016244</td>\n",
              "    </tr>\n",
              "  </tbody>\n",
              "</table>\n",
              "</div>"
            ],
            "text/plain": [
              "                     Acuracia  Precisão  ...  Tempo de Treino  Tempo de Predição\n",
              "KNN                  0.745667  0.772852  ...         0.061061           0.000450\n",
              "Logistic Regression  0.654667  0.706526  ...         0.002552           0.016244\n",
              "\n",
              "[2 rows x 5 columns]"
            ]
          },
          "metadata": {
            "tags": []
          },
          "execution_count": 29
        }
      ]
    },
    {
      "cell_type": "markdown",
      "metadata": {
        "id": "QXNvfFuHZHXP"
      },
      "source": [
        "##Conclusão: ##\n",
        "\n",
        "Observa-se que o KNN obteve melhor acuracia e precisão do que o Logistic Regression. Para o tempo de treino o Logistic Regression foi mais rápido, porém para efetuar a predição foi mais lento. No contexto geral o KNN se sobressaiu frente ao Logistic Regression."
      ]
    }
  ]
}